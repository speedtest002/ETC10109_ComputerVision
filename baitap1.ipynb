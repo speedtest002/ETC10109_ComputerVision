{
 "cells": [
  {
   "cell_type": "code",
   "id": "initial_id",
   "metadata": {
    "collapsed": true,
    "ExecuteTime": {
     "end_time": "2024-11-26T08:10:24.860187Z",
     "start_time": "2024-11-26T08:10:24.844955Z"
    }
   },
   "source": [
    "#bai 1\n",
    "image = [[[255, 0, 0], [0, 255, 0], [0, 0, 255]],\n",
    "         [[255, 255, 0], [0, 255, 255], [255, 0, 255]],\n",
    "         [[128, 128, 128], [64, 64, 64], [192, 192, 192]]]\n",
    "\n",
    "def gray(input_pixel: list[int]):\n",
    "    return 0.299*input_pixel[0] + 0.587*input_pixel[1] + 0.114*input_pixel[2]\n",
    "\n",
    "thresh = 128\n",
    "B = [[0, 0, 0],\n",
    "     [0, 0, 0],\n",
    "     [0, 0, 0]]\n",
    "G = [[0, 0, 0],\n",
    "     [0, 0, 0],\n",
    "     [0, 0, 0]]\n",
    "\n",
    "### a. gray matrix\n",
    "for i in range(len(image)):\n",
    "    for j in range(len(image[i])):\n",
    "        G[i][j] = round(gray(image[i][j]), 3)\n",
    "print(G)\n",
    "### b. binary matrix\n",
    "for i in range(len(image)):\n",
    "    for j in range(len(image[i])):\n",
    "        if gray(image[i][j]) > thresh:\n",
    "            B[i][j] = 1\n",
    "        else:\n",
    "            B[i][j] = 0\n",
    "print(B)"
   ],
   "outputs": [
    {
     "name": "stdout",
     "output_type": "stream",
     "text": [
      "[[76.245, 149.685, 29.07], [225.93, 178.755, 105.315], [128.0, 64.0, 192.0]]\n",
      "[[0, 1, 0], [1, 1, 0], [0, 0, 1]]\n"
     ]
    }
   ],
   "execution_count": 21
  },
  {
   "metadata": {
    "ExecuteTime": {
     "end_time": "2024-11-26T08:15:27.233435Z",
     "start_time": "2024-11-26T08:15:27.214026Z"
    }
   },
   "cell_type": "code",
   "source": [
    "# bai 2\n",
    "G = [[76, 150, 29],\n",
    "     [225, 178, 105],\n",
    "     [128, 64, 92]]\n",
    "\n",
    "### a. tang do sang\n",
    "G1 = [[0, 0, 0],\n",
    "      [0, 0, 0],\n",
    "      [0, 0, 0]]\n",
    "beta = 50\n",
    "for i in range(len(G)):\n",
    "    for j in range(len(G[i])):\n",
    "        if G[i][j] + beta >= 255:\n",
    "            G1[i][j] = 255\n",
    "        else:\n",
    "            G1[i][j] = G[i][j] + beta\n",
    "print(G1)\n",
    "\n",
    "### b. tang tuong phan\n",
    "gamma = 1.2\n",
    "G2 = [[0, 0, 0],\n",
    "      [0, 0, 0],\n",
    "      [0, 0, 0]]\n",
    "for i in range(len(G)):\n",
    "    for j in range(len(G[i])):\n",
    "        if G[i][j]*gamma + beta >= 255:\n",
    "            G2[i][j] = 255\n",
    "        else:\n",
    "            G2[i][j] = round(G[i][j]*gamma + beta, 3)\n",
    "print(G2)"
   ],
   "id": "8accf4ba7f7ee082",
   "outputs": [
    {
     "name": "stdout",
     "output_type": "stream",
     "text": [
      "[[126, 200, 79], [255, 228, 155], [178, 114, 142]]\n",
      "[[141.2, 230.0, 84.8], [255, 255, 176.0], [203.6, 126.8, 160.4]]\n"
     ]
    }
   ],
   "execution_count": 24
  },
  {
   "metadata": {
    "ExecuteTime": {
     "end_time": "2024-11-26T08:00:32.061996Z",
     "start_time": "2024-11-26T08:00:32.049048Z"
    }
   },
   "cell_type": "code",
   "source": [
    "#bai 3\n",
    "import numpy as np\n",
    "\n",
    "A = np.array([\n",
    "    [0, 0, 1, 0],\n",
    "    [0, 1, 1, 1],\n",
    "    [0, 1, 1, 1],\n",
    "    [1, 0, 1, 0]])\n",
    "B = np.array([\n",
    "    [0, 0, 0, 0],\n",
    "    [0, 0, 0, 0],\n",
    "    [0, 0, 0, 0],\n",
    "    [0, 0, 0, 0]])\n",
    "\n",
    "for i in range(len(A)-1):\n",
    "    if i == 0:\n",
    "        continue\n",
    "    for j in range(len(A[i])-1):\n",
    "        if j == 0:\n",
    "            continue\n",
    "        sigma = A[i][j-1] + A[i][j+1] + A[i-1][j-1] + A[i-1][j+1] + A[i+1][j-1] + A[i+1][j+1] + A[i-1][j] + A[i+1][j]\n",
    "        if sigma < 8:\n",
    "            B[i][j] = 0\n",
    "        else:\n",
    "            B[i][j] = A[i][j]\n",
    "print(B)"
   ],
   "id": "e7a9cee32bc918b7",
   "outputs": [
    {
     "name": "stdout",
     "output_type": "stream",
     "text": [
      "[[0 0 0 0]\n",
      " [0 0 0 0]\n",
      " [0 0 0 0]\n",
      " [0 0 0 0]]\n"
     ]
    }
   ],
   "execution_count": 19
  }
 ],
 "metadata": {
  "kernelspec": {
   "display_name": "Python 3",
   "language": "python",
   "name": "python3"
  },
  "language_info": {
   "codemirror_mode": {
    "name": "ipython",
    "version": 2
   },
   "file_extension": ".py",
   "mimetype": "text/x-python",
   "name": "python",
   "nbconvert_exporter": "python",
   "pygments_lexer": "ipython2",
   "version": "2.7.6"
  }
 },
 "nbformat": 4,
 "nbformat_minor": 5
}
