{
 "cells": [
  {
   "cell_type": "markdown",
   "id": "d1903513",
   "metadata": {},
   "source": [
    "### Bài 1. Cho ma trận ảnh xám 3x3 với các giá trị cường độ pixel nhu sfu\n",
    "\n",
    "a.Điều chỉnh cường độ sáng và độ tương phản của ảnh với giá trị và . Kết quả đầu ra gọi là \n",
    "\n",
    "b.Tìm ảnh mới  với giá trị hiệu chỉnh Gamma với "
   ]
  },
  {
   "cell_type": "code",
   "execution_count": 3,
   "id": "initial_id",
   "metadata": {
    "collapsed": true
   },
   "outputs": [
    {
     "name": "stdout",
     "output_type": "stream",
     "text": [
      "g1=\n",
      "[[170. 194. 206.]\n",
      " [218. 230. 242.]\n",
      " [254. 266. 278.]]\n",
      "g2=\n",
      "[[10.         10.95445115 11.40175425]\n",
      " [11.83215957 12.24744871 12.64911064]\n",
      " [13.03840481 13.41640786 13.78404875]]\n"
     ]
    }
   ],
   "source": [
    "import cv2\n",
    "import numpy as np\n",
    "\n",
    "f = np.array([\n",
    "  [100, 120, 130],\n",
    "  [140, 150, 160],\n",
    "  [170, 180, 190]\n",
    "])\n",
    "#a. \n",
    "a=1.2\n",
    "b=50\n",
    "g1 = a*f + b\n",
    "#b\n",
    "gamma = 2\n",
    "g2 = f**(1/gamma)\n",
    "print(f\"g1=\\n{g1}\")\n",
    "print(f\"g2=\\n{g2}\")"
   ]
  },
  {
   "cell_type": "markdown",
   "id": "c494472a",
   "metadata": {},
   "source": [
    "### Bài 2. Cho ảnh kích thước 2x2 với 3 thành phần màu R, G, B như sau\n",
    "Thực hiện cân bằng trắng cho 3 thành phần màu với phương pháp được cho ở phần lý thuyết."
   ]
  },
  {
   "cell_type": "code",
   "execution_count": 4,
   "id": "0255ba1b",
   "metadata": {},
   "outputs": [
    {
     "name": "stdout",
     "output_type": "stream",
     "text": [
      "gR=\n",
      "[[-1.34164079 -0.4472136 ]\n",
      " [ 0.4472136   1.34164079]]\n",
      "gG=\n",
      "[[-1.69941166 -0.80498447]\n",
      " [ 0.08944272  0.98386991]]\n",
      "gB=\n",
      "[[-1.34164079 -0.4472136 ]\n",
      " [ 0.4472136   1.34164079]]\n"
     ]
    }
   ],
   "source": [
    "R = np.array([\n",
    "  [100, 150],\n",
    "  [200, 250]\n",
    "])\n",
    "\n",
    "G = np.array([\n",
    "  [120, 170],\n",
    "  [220, 270]\n",
    "])\n",
    "\n",
    "B = np.array([\n",
    "  [130, 180],\n",
    "  [230, 280]\n",
    "])\n",
    "#white balance\n",
    "#k = 1\n",
    "meanR = np.mean(R)\n",
    "meanG = np.mean(G)\n",
    "meanB = np.mean(B)\n",
    "varR = np.var(R)\n",
    "varG = np.var(G)\n",
    "varB = np.var(B)\n",
    "gR = np.zeros((2,2))\n",
    "gG = np.zeros((2,2))\n",
    "gB = np.zeros((2,2))\n",
    "\n",
    "for i in range(len(R)):\n",
    "    for j in range(len(R[i])):\n",
    "        gR[i,j] = (R[i,j] - meanR) / np.sqrt(varR)\n",
    "for i in range(len(G)):\n",
    "    for j in range(len(G[i])):\n",
    "        gG[i,j] = (R[i,j] - meanG) / np.sqrt(varG)\n",
    "for i in range(len(B)):\n",
    "    for j in range(len(B[i])):\n",
    "        gB[i,j] = (B[i,j] - meanB) / np.sqrt(varB)\n",
    "print(f\"gR=\\n{gR}\")\n",
    "print(f\"gG=\\n{gG}\")\n",
    "print(f\"gB=\\n{gB}\")"
   ]
  },
  {
   "cell_type": "markdown",
   "id": "1cfc81c0",
   "metadata": {},
   "source": [
    "### Bài 3. Thực hiện cân bằng Histogram cho ảnh  sau sử dụng công thức tuyến tính trên bài đọc."
   ]
  },
  {
   "cell_type": "code",
   "execution_count": 5,
   "id": "3da70a2f",
   "metadata": {},
   "outputs": [
    {
     "name": "stdout",
     "output_type": "stream",
     "text": [
      "G=\n",
      "[[  0.      15.9375  47.8125]\n",
      " [ 37.1875 143.4375 148.75  ]\n",
      " [175.3125 201.875  255.    ]]\n"
     ]
    }
   ],
   "source": [
    "I = np.array([\n",
    "  [52, 55, 61],\n",
    "  [59, 79, 80],\n",
    "  [85, 90, 100]\n",
    "])\n",
    "G = np.zeros((3,3))\n",
    "L = 256\n",
    "Imin = np.min(I)\n",
    "Imax = np.max(I)\n",
    "for i in range(len(I)):\n",
    "    for j in range(len(I[i])):\n",
    "      G[i,j] = (I[i,j]-Imin)*(L-1)/(Imax-Imin)\n",
    "print(f\"G=\\n{G}\")"
   ]
  },
  {
   "cell_type": "markdown",
   "id": "232bdab2",
   "metadata": {},
   "source": [
    "### Bài 4. Lọc làm sắc nét ảnh (Sharpening Filter)\n",
    "Cho một hình ảnh 5x5 và một kernel 3x3 để làm sắc nét ảnh. Hãy tính toán giá trị điểm ảnh tại vị trí (2,2) và (3,3), (5, 5) sau khi áp dụng kernel. Giả sử biên được mở rộng bằng giá trị 0"
   ]
  },
  {
   "cell_type": "code",
   "execution_count": 6,
   "id": "971ad409",
   "metadata": {},
   "outputs": [
    {
     "name": "stdout",
     "output_type": "stream",
     "text": [
      "[[ 70.  80.  90.]\n",
      " [120. 130. 140.]\n",
      " [170. 180. 190.]]\n"
     ]
    }
   ],
   "source": [
    "f = np.array([\n",
    "  [10, 20, 30, 40, 50],\n",
    "  [60, 70, 80, 90, 100],\n",
    "  [110, 120, 130, 140, 150],\n",
    "  [160, 170, 180, 190, 200],\n",
    "  [210, 220, 230, 240, 250]\n",
    "])\n",
    "h = np.array([\n",
    "  [0, -1, 0],\n",
    "  [-1, 5, -1],\n",
    "  [0, -1, 0]\n",
    "])\n",
    "g = np.zeros((3,3))\n",
    "for i in range(1, f.shape[0] - 1):\n",
    "  for j in range(1, f.shape[1] - 1):\n",
    "    g[i-1, j-1] = np.sum(f[i-1:i+2, j-1:j+2] * h)\n",
    "\n",
    "print(g)"
   ]
  },
  {
   "cell_type": "markdown",
   "id": "ef7c9779",
   "metadata": {},
   "source": [
    "### Bài 5. Viết chương trình Python thực hiện các thuật toán và phép biến đổi\n",
    "#### a.Chuyển đổi pixel\n",
    "def PixelTransform(f, a, b) truyền vào 1 ảnh f, hai tham số độ lệch b và độ lợi a. Kết quả trả về 1 ảnh mới đã được chuyển đổi pixel\n",
    "#### b.Hiệu chỉnh gamma\n",
    "def GammaCorrelation(f, gamma) truyền vào ảnh f và hệ số gamma, kết quả trả về 1 ảnh đã được hiệu chỉnh gamma\n",
    "#### c.Cân bằng trắng\t\n",
    "def Whitening(f)  truyền vào ảnh f và trả về ảnh đã được cân bằng trắng"
   ]
  },
  {
   "cell_type": "code",
   "execution_count": 7,
   "id": "fe0d118a",
   "metadata": {},
   "outputs": [
    {
     "name": "stdout",
     "output_type": "stream",
     "text": [
      "[[170. 194. 206.]\n",
      " [218. 230. 242.]\n",
      " [254. 266. 278.]]\n",
      "[[10.         10.95445115 11.40175425]\n",
      " [11.83215957 12.24744871 12.64911064]\n",
      " [13.03840481 13.41640786 13.78404875]]\n",
      "[[100 150]\n",
      " [200 250]]\n",
      "[[-1.34164079 -0.4472136 ]\n",
      " [ 0.4472136   1.34164079]]\n"
     ]
    }
   ],
   "source": [
    "def PixelTransform(f, a, b):\n",
    "  return f * a + b\n",
    "\n",
    "def GammaCorrelation(f, gamma):\n",
    "  return f ** (1/gamma)\n",
    "\n",
    "def Whitening(f):\n",
    "  mean_f = np.mean(f)\n",
    "  var_f = np.var(f)\n",
    "  g_f = np.zeros(f.shape)\n",
    "  for i in range(len(f)):\n",
    "      for j in range(len(f[i])):\n",
    "          g_f[i,j] = (f[i,j] - mean_f) / np.sqrt(var_f)\n",
    "  return g_f\n",
    "\n",
    "#test\n",
    "T = np.array([\n",
    "  [100, 120, 130],\n",
    "  [140, 150, 160],\n",
    "  [170, 180, 190]\n",
    "])\n",
    "print(PixelTransform(T, 1.2, 50)) \n",
    "print(GammaCorrelation(T, 2))\n",
    "print(R)\n",
    "print(Whitening(R))"
   ]
  },
  {
   "cell_type": "markdown",
   "id": "b16e39bc",
   "metadata": {},
   "source": [
    "### Bài 6. Viết chương trình đọc một ảnh và áp dụng bộ lọc tuyến tính tùy chọn và hiển thị ảnh sau lọc sử dụng thư viện OpenCV"
   ]
  },
  {
   "cell_type": "code",
   "execution_count": 24,
   "id": "52eed7e7",
   "metadata": {},
   "outputs": [
    {
     "data": {
      "image/png": "[encoded data removed]",
      "text/plain": [
       "<Figure size 640x480 with 2 Axes>"
      ]
     },
     "metadata": {},
     "output_type": "display_data"
    }
   ],
   "source": [
    "import cv2\n",
    "from matplotlib import pyplot as plt\n",
    "# Load an image\n",
    "image = cv2.imread('logo2.jpg')\n",
    "image_rgb = cv2.cvtColor(image, cv2.COLOR_BGR2RGB)\n",
    "\n",
    "plt.subplot(1, 2, 1)\n",
    "plt.imshow(image_rgb)\n",
    "gamma = 2\n",
    "g = GammaCorrelation(image_rgb, gamma)\n",
    "plt.subplot(1, 2, 2)\n",
    "plt.imshow(image_rgb)\n",
    "plt.show()"
   ]
  }
 ],
 "metadata": {
  "kernelspec": {
   "display_name": ".venv",
   "language": "python",
   "name": "python3"
  },
  "language_info": {
   "codemirror_mode": {
    "name": "ipython",
    "version": 3
   },
   "file_extension": ".py",
   "mimetype": "text/x-python",
   "name": "python",
   "nbconvert_exporter": "python",
   "pygments_lexer": "ipython3",
   "version": "3.9.20"
  }
 },
 "nbformat": 4,
 "nbformat_minor": 5
}
